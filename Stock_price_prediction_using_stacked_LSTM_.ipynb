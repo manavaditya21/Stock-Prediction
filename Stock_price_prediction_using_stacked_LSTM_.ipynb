{
  "nbformat": 4,
  "nbformat_minor": 0,
  "metadata": {
    "colab": {
      "provenance": [],
      "authorship_tag": "ABX9TyNBH78qxU4ruLM4DaNHipQ3",
      "include_colab_link": true
    },
    "kernelspec": {
      "name": "python3",
      "display_name": "Python 3"
    },
    "language_info": {
      "name": "python"
    }
  },
  "cells": [
    {
      "cell_type": "markdown",
      "metadata": {
        "id": "view-in-github",
        "colab_type": "text"
      },
      "source": [
        "<a href=\"https://colab.research.google.com/github/anshuman183/Stock-Prediction/blob/main/Stock_price_prediction_using_stacked_LSTM_.ipynb\" target=\"_parent\"><img src=\"https://colab.research.google.com/assets/colab-badge.svg\" alt=\"Open In Colab\"/></a>"
      ]
    },
    {
      "cell_type": "code",
      "execution_count": null,
      "metadata": {
        "id": "0yQv7y-IrlOJ"
      },
      "outputs": [],
      "source": [
        "# Data Collection\n",
        "import pandas_datareader as pdr"
      ]
    },
    {
      "cell_type": "code",
      "source": [
        "key='4c63493afc6c074900feb19844926902191f4305'\n",
        "df = pdr.get_data_tiingo('AAPL',api_key=key)"
      ],
      "metadata": {
        "id": "bRdkLI6jr4P6",
        "colab": {
          "base_uri": "https://localhost:8080/"
        },
        "outputId": "0f1e2ec9-7507-4e6a-e0a8-06f89c5faa31"
      },
      "execution_count": null,
      "outputs": [
        {
          "output_type": "stream",
          "name": "stderr",
          "text": [
            "<ipython-input-2-32cf610305e7>:2: FutureWarning: In a future version of pandas all arguments of concat except for the argument 'objs' will be keyword-only.\n",
            "  df = pdr.get_data_tiingo('AAPL',api_key=key)\n"
          ]
        }
      ]
    },
    {
      "cell_type": "code",
      "source": [
        "df.to_csv('AAPL.csv')"
      ],
      "metadata": {
        "id": "zucSNQurxKp8"
      },
      "execution_count": null,
      "outputs": []
    },
    {
      "cell_type": "code",
      "source": [
        "import pandas as pd\n"
      ],
      "metadata": {
        "id": "W2NzjVdktjZ7"
      },
      "execution_count": null,
      "outputs": []
    },
    {
      "cell_type": "code",
      "source": [
        "df=pd.read_csv('AAPL.csv')"
      ],
      "metadata": {
        "id": "mpQdR4cpw2M2"
      },
      "execution_count": null,
      "outputs": []
    },
    {
      "cell_type": "code",
      "source": [
        "df.head()"
      ],
      "metadata": {
        "colab": {
          "base_uri": "https://localhost:8080/",
          "height": 206
        },
        "id": "Wn4Z1Zqvxfuo",
        "outputId": "b5b5a4f0-8474-440b-b801-893489b3c0b3"
      },
      "execution_count": null,
      "outputs": [
        {
          "output_type": "execute_result",
          "data": {
            "text/plain": [
              "  symbol                       date   close    high     low    open    volume  \\\n",
              "0   AAPL  2019-03-11 00:00:00+00:00  178.90  179.12  175.35  175.49  32011034   \n",
              "1   AAPL  2019-03-12 00:00:00+00:00  180.91  182.67  179.37  180.00  32467584   \n",
              "2   AAPL  2019-03-13 00:00:00+00:00  181.71  183.30  180.92  182.25  31032524   \n",
              "3   AAPL  2019-03-14 00:00:00+00:00  183.73  184.10  182.56  183.90  23579508   \n",
              "4   AAPL  2019-03-15 00:00:00+00:00  186.12  187.33  183.74  184.85  39042912   \n",
              "\n",
              "    adjClose    adjHigh     adjLow    adjOpen  adjVolume  divCash  splitFactor  \n",
              "0  43.055363  43.108310  42.200995  42.234688  128044136      0.0          1.0  \n",
              "1  43.539104  43.962679  43.168477  43.320097  129870336      0.0          1.0  \n",
              "2  43.731638  44.114299  43.541511  43.861598  124130096      0.0          1.0  \n",
              "3  44.217786  44.306833  43.936205  44.258699   94318032      0.0          1.0  \n",
              "4  44.792981  45.084188  44.220193  44.487333  156171648      0.0          1.0  "
            ],
            "text/html": [
              "\n",
              "  <div id=\"df-57e80d66-855c-4d1a-9ba1-b67e0580b954\" class=\"colab-df-container\">\n",
              "    <div>\n",
              "<style scoped>\n",
              "    .dataframe tbody tr th:only-of-type {\n",
              "        vertical-align: middle;\n",
              "    }\n",
              "\n",
              "    .dataframe tbody tr th {\n",
              "        vertical-align: top;\n",
              "    }\n",
              "\n",
              "    .dataframe thead th {\n",
              "        text-align: right;\n",
              "    }\n",
              "</style>\n",
              "<table border=\"1\" class=\"dataframe\">\n",
              "  <thead>\n",
              "    <tr style=\"text-align: right;\">\n",
              "      <th></th>\n",
              "      <th>symbol</th>\n",
              "      <th>date</th>\n",
              "      <th>close</th>\n",
              "      <th>high</th>\n",
              "      <th>low</th>\n",
              "      <th>open</th>\n",
              "      <th>volume</th>\n",
              "      <th>adjClose</th>\n",
              "      <th>adjHigh</th>\n",
              "      <th>adjLow</th>\n",
              "      <th>adjOpen</th>\n",
              "      <th>adjVolume</th>\n",
              "      <th>divCash</th>\n",
              "      <th>splitFactor</th>\n",
              "    </tr>\n",
              "  </thead>\n",
              "  <tbody>\n",
              "    <tr>\n",
              "      <th>0</th>\n",
              "      <td>AAPL</td>\n",
              "      <td>2019-03-11 00:00:00+00:00</td>\n",
              "      <td>178.90</td>\n",
              "      <td>179.12</td>\n",
              "      <td>175.35</td>\n",
              "      <td>175.49</td>\n",
              "      <td>32011034</td>\n",
              "      <td>43.055363</td>\n",
              "      <td>43.108310</td>\n",
              "      <td>42.200995</td>\n",
              "      <td>42.234688</td>\n",
              "      <td>128044136</td>\n",
              "      <td>0.0</td>\n",
              "      <td>1.0</td>\n",
              "    </tr>\n",
              "    <tr>\n",
              "      <th>1</th>\n",
              "      <td>AAPL</td>\n",
              "      <td>2019-03-12 00:00:00+00:00</td>\n",
              "      <td>180.91</td>\n",
              "      <td>182.67</td>\n",
              "      <td>179.37</td>\n",
              "      <td>180.00</td>\n",
              "      <td>32467584</td>\n",
              "      <td>43.539104</td>\n",
              "      <td>43.962679</td>\n",
              "      <td>43.168477</td>\n",
              "      <td>43.320097</td>\n",
              "      <td>129870336</td>\n",
              "      <td>0.0</td>\n",
              "      <td>1.0</td>\n",
              "    </tr>\n",
              "    <tr>\n",
              "      <th>2</th>\n",
              "      <td>AAPL</td>\n",
              "      <td>2019-03-13 00:00:00+00:00</td>\n",
              "      <td>181.71</td>\n",
              "      <td>183.30</td>\n",
              "      <td>180.92</td>\n",
              "      <td>182.25</td>\n",
              "      <td>31032524</td>\n",
              "      <td>43.731638</td>\n",
              "      <td>44.114299</td>\n",
              "      <td>43.541511</td>\n",
              "      <td>43.861598</td>\n",
              "      <td>124130096</td>\n",
              "      <td>0.0</td>\n",
              "      <td>1.0</td>\n",
              "    </tr>\n",
              "    <tr>\n",
              "      <th>3</th>\n",
              "      <td>AAPL</td>\n",
              "      <td>2019-03-14 00:00:00+00:00</td>\n",
              "      <td>183.73</td>\n",
              "      <td>184.10</td>\n",
              "      <td>182.56</td>\n",
              "      <td>183.90</td>\n",
              "      <td>23579508</td>\n",
              "      <td>44.217786</td>\n",
              "      <td>44.306833</td>\n",
              "      <td>43.936205</td>\n",
              "      <td>44.258699</td>\n",
              "      <td>94318032</td>\n",
              "      <td>0.0</td>\n",
              "      <td>1.0</td>\n",
              "    </tr>\n",
              "    <tr>\n",
              "      <th>4</th>\n",
              "      <td>AAPL</td>\n",
              "      <td>2019-03-15 00:00:00+00:00</td>\n",
              "      <td>186.12</td>\n",
              "      <td>187.33</td>\n",
              "      <td>183.74</td>\n",
              "      <td>184.85</td>\n",
              "      <td>39042912</td>\n",
              "      <td>44.792981</td>\n",
              "      <td>45.084188</td>\n",
              "      <td>44.220193</td>\n",
              "      <td>44.487333</td>\n",
              "      <td>156171648</td>\n",
              "      <td>0.0</td>\n",
              "      <td>1.0</td>\n",
              "    </tr>\n",
              "  </tbody>\n",
              "</table>\n",
              "</div>\n",
              "    <div class=\"colab-df-buttons\">\n",
              "\n",
              "  <div class=\"colab-df-container\">\n",
              "    <button class=\"colab-df-convert\" onclick=\"convertToInteractive('df-57e80d66-855c-4d1a-9ba1-b67e0580b954')\"\n",
              "            title=\"Convert this dataframe to an interactive table.\"\n",
              "            style=\"display:none;\">\n",
              "\n",
              "  <svg xmlns=\"http://www.w3.org/2000/svg\" height=\"24px\" viewBox=\"0 -960 960 960\">\n",
              "    <path d=\"M120-120v-720h720v720H120Zm60-500h600v-160H180v160Zm220 220h160v-160H400v160Zm0 220h160v-160H400v160ZM180-400h160v-160H180v160Zm440 0h160v-160H620v160ZM180-180h160v-160H180v160Zm440 0h160v-160H620v160Z\"/>\n",
              "  </svg>\n",
              "    </button>\n",
              "\n",
              "  <style>\n",
              "    .colab-df-container {\n",
              "      display:flex;\n",
              "      gap: 12px;\n",
              "    }\n",
              "\n",
              "    .colab-df-convert {\n",
              "      background-color: #E8F0FE;\n",
              "      border: none;\n",
              "      border-radius: 50%;\n",
              "      cursor: pointer;\n",
              "      display: none;\n",
              "      fill: #1967D2;\n",
              "      height: 32px;\n",
              "      padding: 0 0 0 0;\n",
              "      width: 32px;\n",
              "    }\n",
              "\n",
              "    .colab-df-convert:hover {\n",
              "      background-color: #E2EBFA;\n",
              "      box-shadow: 0px 1px 2px rgba(60, 64, 67, 0.3), 0px 1px 3px 1px rgba(60, 64, 67, 0.15);\n",
              "      fill: #174EA6;\n",
              "    }\n",
              "\n",
              "    .colab-df-buttons div {\n",
              "      margin-bottom: 4px;\n",
              "    }\n",
              "\n",
              "    [theme=dark] .colab-df-convert {\n",
              "      background-color: #3B4455;\n",
              "      fill: #D2E3FC;\n",
              "    }\n",
              "\n",
              "    [theme=dark] .colab-df-convert:hover {\n",
              "      background-color: #434B5C;\n",
              "      box-shadow: 0px 1px 3px 1px rgba(0, 0, 0, 0.15);\n",
              "      filter: drop-shadow(0px 1px 2px rgba(0, 0, 0, 0.3));\n",
              "      fill: #FFFFFF;\n",
              "    }\n",
              "  </style>\n",
              "\n",
              "    <script>\n",
              "      const buttonEl =\n",
              "        document.querySelector('#df-57e80d66-855c-4d1a-9ba1-b67e0580b954 button.colab-df-convert');\n",
              "      buttonEl.style.display =\n",
              "        google.colab.kernel.accessAllowed ? 'block' : 'none';\n",
              "\n",
              "      async function convertToInteractive(key) {\n",
              "        const element = document.querySelector('#df-57e80d66-855c-4d1a-9ba1-b67e0580b954');\n",
              "        const dataTable =\n",
              "          await google.colab.kernel.invokeFunction('convertToInteractive',\n",
              "                                                    [key], {});\n",
              "        if (!dataTable) return;\n",
              "\n",
              "        const docLinkHtml = 'Like what you see? Visit the ' +\n",
              "          '<a target=\"_blank\" href=https://colab.research.google.com/notebooks/data_table.ipynb>data table notebook</a>'\n",
              "          + ' to learn more about interactive tables.';\n",
              "        element.innerHTML = '';\n",
              "        dataTable['output_type'] = 'display_data';\n",
              "        await google.colab.output.renderOutput(dataTable, element);\n",
              "        const docLink = document.createElement('div');\n",
              "        docLink.innerHTML = docLinkHtml;\n",
              "        element.appendChild(docLink);\n",
              "      }\n",
              "    </script>\n",
              "  </div>\n",
              "\n",
              "\n",
              "<div id=\"df-8940d125-161b-486f-a68a-27e558606f5d\">\n",
              "  <button class=\"colab-df-quickchart\" onclick=\"quickchart('df-8940d125-161b-486f-a68a-27e558606f5d')\"\n",
              "            title=\"Suggest charts\"\n",
              "            style=\"display:none;\">\n",
              "\n",
              "<svg xmlns=\"http://www.w3.org/2000/svg\" height=\"24px\"viewBox=\"0 0 24 24\"\n",
              "     width=\"24px\">\n",
              "    <g>\n",
              "        <path d=\"M19 3H5c-1.1 0-2 .9-2 2v14c0 1.1.9 2 2 2h14c1.1 0 2-.9 2-2V5c0-1.1-.9-2-2-2zM9 17H7v-7h2v7zm4 0h-2V7h2v10zm4 0h-2v-4h2v4z\"/>\n",
              "    </g>\n",
              "</svg>\n",
              "  </button>\n",
              "\n",
              "<style>\n",
              "  .colab-df-quickchart {\n",
              "      --bg-color: #E8F0FE;\n",
              "      --fill-color: #1967D2;\n",
              "      --hover-bg-color: #E2EBFA;\n",
              "      --hover-fill-color: #174EA6;\n",
              "      --disabled-fill-color: #AAA;\n",
              "      --disabled-bg-color: #DDD;\n",
              "  }\n",
              "\n",
              "  [theme=dark] .colab-df-quickchart {\n",
              "      --bg-color: #3B4455;\n",
              "      --fill-color: #D2E3FC;\n",
              "      --hover-bg-color: #434B5C;\n",
              "      --hover-fill-color: #FFFFFF;\n",
              "      --disabled-bg-color: #3B4455;\n",
              "      --disabled-fill-color: #666;\n",
              "  }\n",
              "\n",
              "  .colab-df-quickchart {\n",
              "    background-color: var(--bg-color);\n",
              "    border: none;\n",
              "    border-radius: 50%;\n",
              "    cursor: pointer;\n",
              "    display: none;\n",
              "    fill: var(--fill-color);\n",
              "    height: 32px;\n",
              "    padding: 0;\n",
              "    width: 32px;\n",
              "  }\n",
              "\n",
              "  .colab-df-quickchart:hover {\n",
              "    background-color: var(--hover-bg-color);\n",
              "    box-shadow: 0 1px 2px rgba(60, 64, 67, 0.3), 0 1px 3px 1px rgba(60, 64, 67, 0.15);\n",
              "    fill: var(--button-hover-fill-color);\n",
              "  }\n",
              "\n",
              "  .colab-df-quickchart-complete:disabled,\n",
              "  .colab-df-quickchart-complete:disabled:hover {\n",
              "    background-color: var(--disabled-bg-color);\n",
              "    fill: var(--disabled-fill-color);\n",
              "    box-shadow: none;\n",
              "  }\n",
              "\n",
              "  .colab-df-spinner {\n",
              "    border: 2px solid var(--fill-color);\n",
              "    border-color: transparent;\n",
              "    border-bottom-color: var(--fill-color);\n",
              "    animation:\n",
              "      spin 1s steps(1) infinite;\n",
              "  }\n",
              "\n",
              "  @keyframes spin {\n",
              "    0% {\n",
              "      border-color: transparent;\n",
              "      border-bottom-color: var(--fill-color);\n",
              "      border-left-color: var(--fill-color);\n",
              "    }\n",
              "    20% {\n",
              "      border-color: transparent;\n",
              "      border-left-color: var(--fill-color);\n",
              "      border-top-color: var(--fill-color);\n",
              "    }\n",
              "    30% {\n",
              "      border-color: transparent;\n",
              "      border-left-color: var(--fill-color);\n",
              "      border-top-color: var(--fill-color);\n",
              "      border-right-color: var(--fill-color);\n",
              "    }\n",
              "    40% {\n",
              "      border-color: transparent;\n",
              "      border-right-color: var(--fill-color);\n",
              "      border-top-color: var(--fill-color);\n",
              "    }\n",
              "    60% {\n",
              "      border-color: transparent;\n",
              "      border-right-color: var(--fill-color);\n",
              "    }\n",
              "    80% {\n",
              "      border-color: transparent;\n",
              "      border-right-color: var(--fill-color);\n",
              "      border-bottom-color: var(--fill-color);\n",
              "    }\n",
              "    90% {\n",
              "      border-color: transparent;\n",
              "      border-bottom-color: var(--fill-color);\n",
              "    }\n",
              "  }\n",
              "</style>\n",
              "\n",
              "  <script>\n",
              "    async function quickchart(key) {\n",
              "      const quickchartButtonEl =\n",
              "        document.querySelector('#' + key + ' button');\n",
              "      quickchartButtonEl.disabled = true;  // To prevent multiple clicks.\n",
              "      quickchartButtonEl.classList.add('colab-df-spinner');\n",
              "      try {\n",
              "        const charts = await google.colab.kernel.invokeFunction(\n",
              "            'suggestCharts', [key], {});\n",
              "      } catch (error) {\n",
              "        console.error('Error during call to suggestCharts:', error);\n",
              "      }\n",
              "      quickchartButtonEl.classList.remove('colab-df-spinner');\n",
              "      quickchartButtonEl.classList.add('colab-df-quickchart-complete');\n",
              "    }\n",
              "    (() => {\n",
              "      let quickchartButtonEl =\n",
              "        document.querySelector('#df-8940d125-161b-486f-a68a-27e558606f5d button');\n",
              "      quickchartButtonEl.style.display =\n",
              "        google.colab.kernel.accessAllowed ? 'block' : 'none';\n",
              "    })();\n",
              "  </script>\n",
              "</div>\n",
              "    </div>\n",
              "  </div>\n"
            ],
            "application/vnd.google.colaboratory.intrinsic+json": {
              "type": "dataframe",
              "variable_name": "df",
              "summary": "{\n  \"name\": \"df\",\n  \"rows\": 1258,\n  \"fields\": [\n    {\n      \"column\": \"symbol\",\n      \"properties\": {\n        \"dtype\": \"category\",\n        \"num_unique_values\": 1,\n        \"samples\": [\n          \"AAPL\"\n        ],\n        \"semantic_type\": \"\",\n        \"description\": \"\"\n      }\n    },\n    {\n      \"column\": \"date\",\n      \"properties\": {\n        \"dtype\": \"object\",\n        \"num_unique_values\": 1258,\n        \"samples\": [\n          \"2021-06-01 00:00:00+00:00\"\n        ],\n        \"semantic_type\": \"\",\n        \"description\": \"\"\n      }\n    },\n    {\n      \"column\": \"close\",\n      \"properties\": {\n        \"dtype\": \"number\",\n        \"std\": 69.13043516903181,\n        \"min\": 106.84,\n        \"max\": 506.09,\n        \"num_unique_values\": 1200,\n        \"samples\": [\n          187.68\n        ],\n        \"semantic_type\": \"\",\n        \"description\": \"\"\n      }\n    },\n    {\n      \"column\": \"high\",\n      \"properties\": {\n        \"dtype\": \"number\",\n        \"std\": 69.7752825049524,\n        \"min\": 110.19,\n        \"max\": 515.14,\n        \"num_unique_values\": 1209,\n        \"samples\": [\n          206.43\n        ],\n        \"semantic_type\": \"\",\n        \"description\": \"\"\n      }\n    },\n    {\n      \"column\": \"low\",\n      \"properties\": {\n        \"dtype\": \"number\",\n        \"std\": 68.13764538267213,\n        \"min\": 103.1,\n        \"max\": 500.33,\n        \"num_unique_values\": 1225,\n        \"samples\": [\n          146.28\n        ],\n        \"semantic_type\": \"\",\n        \"description\": \"\"\n      }\n    },\n    {\n      \"column\": \"open\",\n      \"properties\": {\n        \"dtype\": \"number\",\n        \"std\": 68.84789532008108,\n        \"min\": 104.54,\n        \"max\": 514.79,\n        \"num_unique_values\": 1206,\n        \"samples\": [\n          195.41\n        ],\n        \"semantic_type\": \"\",\n        \"description\": \"\"\n      }\n    },\n    {\n      \"column\": \"volume\",\n      \"properties\": {\n        \"dtype\": \"number\",\n        \"std\": 38151049,\n        \"min\": 11362045,\n        \"max\": 332607163,\n        \"num_unique_values\": 1258,\n        \"samples\": [\n          67637118\n        ],\n        \"semantic_type\": \"\",\n        \"description\": \"\"\n      }\n    },\n    {\n      \"column\": \"adjClose\",\n      \"properties\": {\n        \"dtype\": \"number\",\n        \"std\": 45.3810636155536,\n        \"min\": 41.8704978331,\n        \"max\": 197.8585514834,\n        \"num_unique_values\": 1246,\n        \"samples\": [\n          170.8434263285\n        ],\n        \"semantic_type\": \"\",\n        \"description\": \"\"\n      }\n    },\n    {\n      \"column\": \"adjHigh\",\n      \"properties\": {\n        \"dtype\": \"number\",\n        \"std\": 45.73546780979511,\n        \"min\": 42.9867222993,\n        \"max\": 199.3666349357,\n        \"num_unique_values\": 1246,\n        \"samples\": [\n          169.9733400089\n        ],\n        \"semantic_type\": \"\",\n        \"description\": \"\"\n      }\n    },\n    {\n      \"column\": \"adjLow\",\n      \"properties\": {\n        \"dtype\": \"number\",\n        \"std\": 44.99125478046713,\n        \"min\": 41.1384285403,\n        \"max\": 196.7499603363,\n        \"num_unique_values\": 1251,\n        \"samples\": [\n          155.8431881962\n        ],\n        \"semantic_type\": \"\",\n        \"description\": \"\"\n      }\n    },\n    {\n      \"column\": \"adjOpen\",\n      \"properties\": {\n        \"dtype\": \"number\",\n        \"std\": 45.36979459079296,\n        \"min\": 42.2346881738,\n        \"max\": 197.7686657147,\n        \"num_unique_values\": 1244,\n        \"samples\": [\n          157.4559618197\n        ],\n        \"semantic_type\": \"\",\n        \"description\": \"\"\n      }\n    },\n    {\n      \"column\": \"adjVolume\",\n      \"properties\": {\n        \"dtype\": \"number\",\n        \"std\": 52133209,\n        \"min\": 24048344,\n        \"max\": 426884920,\n        \"num_unique_values\": 1258,\n        \"samples\": [\n          67637118\n        ],\n        \"semantic_type\": \"\",\n        \"description\": \"\"\n      }\n    },\n    {\n      \"column\": \"divCash\",\n      \"properties\": {\n        \"dtype\": \"number\",\n        \"std\": 0.05907376443960157,\n        \"min\": 0.0,\n        \"max\": 0.82,\n        \"num_unique_values\": 7,\n        \"samples\": [\n          0.0\n        ],\n        \"semantic_type\": \"\",\n        \"description\": \"\"\n      }\n    },\n    {\n      \"column\": \"splitFactor\",\n      \"properties\": {\n        \"dtype\": \"number\",\n        \"std\": 0.08458258116519014,\n        \"min\": 1.0,\n        \"max\": 4.0,\n        \"num_unique_values\": 2,\n        \"samples\": [\n          4.0\n        ],\n        \"semantic_type\": \"\",\n        \"description\": \"\"\n      }\n    }\n  ]\n}"
            }
          },
          "metadata": {},
          "execution_count": 6
        }
      ]
    },
    {
      "cell_type": "code",
      "source": [
        "df1=df.reset_index()['close']"
      ],
      "metadata": {
        "id": "KnFH4ynWxDAr"
      },
      "execution_count": null,
      "outputs": []
    },
    {
      "cell_type": "code",
      "source": [
        "np.max(df1)"
      ],
      "metadata": {
        "colab": {
          "base_uri": "https://localhost:8080/"
        },
        "id": "6TrknbcexVu2",
        "outputId": "03c2915e-9282-4664-d913-99cd3b4b99f5"
      },
      "execution_count": null,
      "outputs": [
        {
          "output_type": "execute_result",
          "data": {
            "text/plain": [
              "0.9999999999999998"
            ]
          },
          "metadata": {},
          "execution_count": 47
        }
      ]
    },
    {
      "cell_type": "code",
      "source": [
        "import matplotlib.pyplot as plt\n",
        "plt.plot(df1)"
      ],
      "metadata": {
        "colab": {
          "base_uri": "https://localhost:8080/",
          "height": 447
        },
        "id": "0V-LnKqwxYxk",
        "outputId": "cf50e422-cf88-4018-e84c-f68cb11fdfdd"
      },
      "execution_count": null,
      "outputs": [
        {
          "output_type": "execute_result",
          "data": {
            "text/plain": [
              "[<matplotlib.lines.Line2D at 0x7be213ec3220>]"
            ]
          },
          "metadata": {},
          "execution_count": 9
        },
        {
          "output_type": "display_data",
          "data": {
            "text/plain": [
              "<Figure size 640x480 with 1 Axes>"
            ],
            "image/png": "[encoded data removed]"
          },
          "metadata": {}
        }
      ]
    },
    {
      "cell_type": "code",
      "source": [
        "## LSTM are sensitive to the scale of the data. So we apply MinMax Scaler"
      ],
      "metadata": {
        "id": "noTrGcaExx5v"
      },
      "execution_count": null,
      "outputs": []
    },
    {
      "cell_type": "code",
      "source": [
        "import numpy as np"
      ],
      "metadata": {
        "id": "QwQZOyoByulR"
      },
      "execution_count": null,
      "outputs": []
    },
    {
      "cell_type": "code",
      "source": [
        "from sklearn.preprocessing import MinMaxScaler\n",
        "scaler=MinMaxScaler(feature_range=(0,1))\n",
        "df1=scaler.fit_transform(np.array(df1).reshape(-1,1))"
      ],
      "metadata": {
        "id": "JILpPzJbyxbL"
      },
      "execution_count": null,
      "outputs": []
    },
    {
      "cell_type": "code",
      "source": [
        "df1.shape"
      ],
      "metadata": {
        "colab": {
          "base_uri": "https://localhost:8080/"
        },
        "id": "n114NK_8zYW5",
        "outputId": "11d84c3c-db38-4859-e9f4-28282275828c"
      },
      "execution_count": null,
      "outputs": [
        {
          "output_type": "execute_result",
          "data": {
            "text/plain": [
              "(1258, 1)"
            ]
          },
          "metadata": {},
          "execution_count": 13
        }
      ]
    },
    {
      "cell_type": "code",
      "source": [
        "## splitting dataset into train and test split\n",
        "training_size = int(len(df1)*0.65)\n",
        "test_size=len(df1)-training_size\n",
        "train_data,test_data = df1[0:training_size,:],df1[training_size : len(df1), :1]"
      ],
      "metadata": {
        "id": "8Nmta9oqza0C"
      },
      "execution_count": null,
      "outputs": []
    },
    {
      "cell_type": "code",
      "source": [
        "training_size , test_size"
      ],
      "metadata": {
        "colab": {
          "base_uri": "https://localhost:8080/"
        },
        "id": "rkNseqTI0UC6",
        "outputId": "ebe3ca7d-f759-44de-e98a-642e6043608d"
      },
      "execution_count": null,
      "outputs": [
        {
          "output_type": "execute_result",
          "data": {
            "text/plain": [
              "(817, 441)"
            ]
          },
          "metadata": {},
          "execution_count": 15
        }
      ]
    },
    {
      "cell_type": "code",
      "source": [
        "import numpy\n",
        "# convert an array of values into dataset matrix\n",
        "def create_dataset(dataset,time_step=1):\n",
        "  dataX,dataY = [] , []\n",
        "  for i in range(len(dataset)-time_step-1):\n",
        "    a = dataset[i:(i+time_step),0] ### i=0,1,2,3\n",
        "    dataX.append(a)\n",
        "    dataY.append(dataset[i + time_step,0])\n",
        "  return numpy.array(dataX),numpy.array(dataY)"
      ],
      "metadata": {
        "id": "X0jf7rfG00_S"
      },
      "execution_count": null,
      "outputs": []
    },
    {
      "cell_type": "code",
      "source": [
        "# reshape into X=t ,t+1 , t+2 , t+3 and Y=t+4\n",
        "time_step = 100\n",
        "X_train , y_train = create_dataset(train_data ,time_step)\n",
        "X_test ,ytest = create_dataset(test_data,time_step)"
      ],
      "metadata": {
        "id": "u_Q8OkQV2KyK"
      },
      "execution_count": null,
      "outputs": []
    },
    {
      "cell_type": "code",
      "source": [
        "print(X_train.shape), print(y_train.shape)"
      ],
      "metadata": {
        "colab": {
          "base_uri": "https://localhost:8080/"
        },
        "id": "p1Um-zkt26q8",
        "outputId": "00d2eb82-529e-4904-a8cd-20ff0c9fc8fa"
      },
      "execution_count": null,
      "outputs": [
        {
          "output_type": "stream",
          "name": "stdout",
          "text": [
            "(716, 100)\n",
            "(716,)\n"
          ]
        },
        {
          "output_type": "execute_result",
          "data": {
            "text/plain": [
              "(None, None)"
            ]
          },
          "metadata": {},
          "execution_count": 18
        }
      ]
    },
    {
      "cell_type": "code",
      "source": [
        "X_test"
      ],
      "metadata": {
        "id": "EK0KF2WIE0j9",
        "outputId": "0781630d-f5f2-47ec-f156-189d59f88ddc",
        "colab": {
          "base_uri": "https://localhost:8080/"
        }
      },
      "execution_count": null,
      "outputs": [
        {
          "output_type": "execute_result",
          "data": {
            "text/plain": [
              "array([[[0.09843456],\n",
              "        [0.10487163],\n",
              "        [0.10299311],\n",
              "        ...,\n",
              "        [0.10672511],\n",
              "        [0.11396368],\n",
              "        [0.10647464]],\n",
              "\n",
              "       [[0.10487163],\n",
              "        [0.10299311],\n",
              "        [0.08966813],\n",
              "        ...,\n",
              "        [0.11396368],\n",
              "        [0.10647464],\n",
              "        [0.09507827]],\n",
              "\n",
              "       [[0.10299311],\n",
              "        [0.08966813],\n",
              "        [0.07586725],\n",
              "        ...,\n",
              "        [0.10647464],\n",
              "        [0.09507827],\n",
              "        [0.12247965]],\n",
              "\n",
              "       ...,\n",
              "\n",
              "       [[0.18071384],\n",
              "        [0.17921102],\n",
              "        [0.18274264],\n",
              "        ...,\n",
              "        [0.18680025],\n",
              "        [0.1851221 ],\n",
              "        [0.18239198]],\n",
              "\n",
              "       [[0.17921102],\n",
              "        [0.18274264],\n",
              "        [0.18502192],\n",
              "        ...,\n",
              "        [0.1851221 ],\n",
              "        [0.18239198],\n",
              "        [0.17097057]],\n",
              "\n",
              "       [[0.18274264],\n",
              "        [0.18502192],\n",
              "        [0.18036318],\n",
              "        ...,\n",
              "        [0.18239198],\n",
              "        [0.17097057],\n",
              "        [0.15849718]]])"
            ]
          },
          "metadata": {},
          "execution_count": 60
        }
      ]
    },
    {
      "cell_type": "code",
      "source": [
        "print(X_test.shape),print(ytest.shape)"
      ],
      "metadata": {
        "colab": {
          "base_uri": "https://localhost:8080/"
        },
        "id": "zgKG-MqT29nd",
        "outputId": "2c130d65-c221-45a1-fffe-a36b997cfa3e"
      },
      "execution_count": null,
      "outputs": [
        {
          "output_type": "stream",
          "name": "stdout",
          "text": [
            "(340, 100)\n",
            "(340,)\n"
          ]
        },
        {
          "output_type": "execute_result",
          "data": {
            "text/plain": [
              "(None, None)"
            ]
          },
          "metadata": {},
          "execution_count": 19
        }
      ]
    },
    {
      "cell_type": "code",
      "source": [
        "# reshape input to be [samples , time steps , features] which is required for LSTM\n",
        "X_train = X_train.reshape(X_train.shape[0],X_train.shape[1], 1)\n",
        "X_test = X_test.reshape(X_test.shape[0],X_test.shape[1] , 1)\n"
      ],
      "metadata": {
        "id": "pV7kQmoV3RTf"
      },
      "execution_count": null,
      "outputs": []
    },
    {
      "cell_type": "code",
      "source": [
        "### Create the LSTM Model\n",
        "from tensorflow.keras.models import Sequential\n",
        "from tensorflow.keras.layers import Dense\n",
        "from tensorflow.keras.layers import LSTM\n"
      ],
      "metadata": {
        "id": "JtmJf7CZ46Nn"
      },
      "execution_count": null,
      "outputs": []
    },
    {
      "cell_type": "code",
      "source": [
        "model=Sequential()\n",
        "model.add(LSTM(50,return_sequences=True,input_shape=(100,1)))\n",
        "model.add(LSTM(50,return_sequences=True))\n",
        "model.add(LSTM(50))\n",
        "model.add(Dense(1))\n",
        "model.compile(loss='mean_squared_error',optimizer='adam')\n"
      ],
      "metadata": {
        "id": "mLqL8Jnv5Zx0"
      },
      "execution_count": null,
      "outputs": []
    },
    {
      "cell_type": "code",
      "source": [
        "model.summary()"
      ],
      "metadata": {
        "colab": {
          "base_uri": "https://localhost:8080/"
        },
        "id": "_YS_PrAOIFs1",
        "outputId": "048ee836-92fe-4f96-b981-b0d19092aeb0"
      },
      "execution_count": null,
      "outputs": [
        {
          "output_type": "stream",
          "name": "stdout",
          "text": [
            "Model: \"sequential\"\n",
            "_________________________________________________________________\n",
            " Layer (type)                Output Shape              Param #   \n",
            "=================================================================\n",
            " lstm (LSTM)                 (None, 100, 50)           10400     \n",
            "                                                                 \n",
            " lstm_1 (LSTM)               (None, 100, 50)           20200     \n",
            "                                                                 \n",
            " lstm_2 (LSTM)               (None, 50)                20200     \n",
            "                                                                 \n",
            " dense (Dense)               (None, 1)                 51        \n",
            "                                                                 \n",
            "=================================================================\n",
            "Total params: 50851 (198.64 KB)\n",
            "Trainable params: 50851 (198.64 KB)\n",
            "Non-trainable params: 0 (0.00 Byte)\n",
            "_________________________________________________________________\n"
          ]
        }
      ]
    },
    {
      "cell_type": "code",
      "source": [
        "X_train[1]"
      ],
      "metadata": {
        "colab": {
          "base_uri": "https://localhost:8080/"
        },
        "id": "QTEJ-WWBDZ5N",
        "outputId": "13550b13-57b5-43af-8870-33e870d769c4"
      },
      "execution_count": null,
      "outputs": [
        {
          "output_type": "execute_result",
          "data": {
            "text/plain": [
              "array([[0.18552286],\n",
              "       [0.18752661],\n",
              "       [0.1925861 ],\n",
              "       [0.19857232],\n",
              "       [0.20333125],\n",
              "       [0.19959925],\n",
              "       [0.2036819 ],\n",
              "       [0.22103945],\n",
              "       [0.21092048],\n",
              "       [0.20513463],\n",
              "       [0.20025047],\n",
              "       [0.20445836],\n",
              "       [0.20508453],\n",
              "       [0.20816531],\n",
              "       [0.21139637],\n",
              "       [0.21835942],\n",
              "       [0.22169067],\n",
              "       [0.22254227],\n",
              "       [0.22582342],\n",
              "       [0.23358798],\n",
              "       [0.23208516],\n",
              "       [0.23489042],\n",
              "       [0.23070758],\n",
              "       [0.2305072 ],\n",
              "       [0.23140889],\n",
              "       [0.23145899],\n",
              "       [0.24117721],\n",
              "       [0.24300564],\n",
              "       [0.24468378],\n",
              "       [0.25207264],\n",
              "       [0.25127113],\n",
              "       [0.2465623 ],\n",
              "       [0.2441077 ],\n",
              "       [0.24488416],\n",
              "       [0.23501565],\n",
              "       [0.25968691],\n",
              "       [0.25625548],\n",
              "       [0.26276769],\n",
              "       [0.25457733],\n",
              "       [0.24050094],\n",
              "       [0.24060113],\n",
              "       [0.23514089],\n",
              "       [0.22627426],\n",
              "       [0.19757044],\n",
              "       [0.20493425],\n",
              "       [0.21059487],\n",
              "       [0.20849092],\n",
              "       [0.20578585],\n",
              "       [0.19098309],\n",
              "       [0.19977458],\n",
              "       [0.19020664],\n",
              "       [0.18239198],\n",
              "       [0.18066374],\n",
              "       [0.17881027],\n",
              "       [0.17668128],\n",
              "       [0.1789856 ],\n",
              "       [0.17089543],\n",
              "       [0.16646212],\n",
              "       [0.18234189],\n",
              "       [0.18960551],\n",
              "       [0.1963181 ],\n",
              "       [0.20866625],\n",
              "       [0.21475266],\n",
              "       [0.22033813],\n",
              "       [0.21878522],\n",
              "       [0.21868503],\n",
              "       [0.21515341],\n",
              "       [0.21803381],\n",
              "       [0.22945523],\n",
              "       [0.2280025 ],\n",
              "       [0.23198497],\n",
              "       [0.23028178],\n",
              "       [0.22978084],\n",
              "       [0.2222417 ],\n",
              "       [0.23283657],\n",
              "       [0.23268629],\n",
              "       [0.22812774],\n",
              "       [0.23721979],\n",
              "       [0.24017533],\n",
              "       [0.24438322],\n",
              "       [0.24393237],\n",
              "       [0.2333876 ],\n",
              "       [0.23644333],\n",
              "       [0.24142768],\n",
              "       [0.23772073],\n",
              "       [0.24160301],\n",
              "       [0.24638698],\n",
              "       [0.24460864],\n",
              "       [0.24172824],\n",
              "       [0.24751409],\n",
              "       [0.23982467],\n",
              "       [0.25142142],\n",
              "       [0.25547902],\n",
              "       [0.25505322],\n",
              "       [0.25092048],\n",
              "       [0.25272386],\n",
              "       [0.25758297],\n",
              "       [0.25532874],\n",
              "       [0.26599875],\n",
              "       [0.2544521 ]])"
            ]
          },
          "metadata": {},
          "execution_count": 57
        }
      ]
    },
    {
      "cell_type": "code",
      "source": [
        "X_train[0]"
      ],
      "metadata": {
        "colab": {
          "base_uri": "https://localhost:8080/"
        },
        "id": "H8K41Q81C16i",
        "outputId": "6fd50173-31ef-41e7-93bd-8477a4de0d68"
      },
      "execution_count": null,
      "outputs": [
        {
          "output_type": "execute_result",
          "data": {
            "text/plain": [
              "array([[0.18048842],\n",
              "       [0.18552286],\n",
              "       [0.18752661],\n",
              "       [0.1925861 ],\n",
              "       [0.19857232],\n",
              "       [0.20333125],\n",
              "       [0.19959925],\n",
              "       [0.2036819 ],\n",
              "       [0.22103945],\n",
              "       [0.21092048],\n",
              "       [0.20513463],\n",
              "       [0.20025047],\n",
              "       [0.20445836],\n",
              "       [0.20508453],\n",
              "       [0.20816531],\n",
              "       [0.21139637],\n",
              "       [0.21835942],\n",
              "       [0.22169067],\n",
              "       [0.22254227],\n",
              "       [0.22582342],\n",
              "       [0.23358798],\n",
              "       [0.23208516],\n",
              "       [0.23489042],\n",
              "       [0.23070758],\n",
              "       [0.2305072 ],\n",
              "       [0.23140889],\n",
              "       [0.23145899],\n",
              "       [0.24117721],\n",
              "       [0.24300564],\n",
              "       [0.24468378],\n",
              "       [0.25207264],\n",
              "       [0.25127113],\n",
              "       [0.2465623 ],\n",
              "       [0.2441077 ],\n",
              "       [0.24488416],\n",
              "       [0.23501565],\n",
              "       [0.25968691],\n",
              "       [0.25625548],\n",
              "       [0.26276769],\n",
              "       [0.25457733],\n",
              "       [0.24050094],\n",
              "       [0.24060113],\n",
              "       [0.23514089],\n",
              "       [0.22627426],\n",
              "       [0.19757044],\n",
              "       [0.20493425],\n",
              "       [0.21059487],\n",
              "       [0.20849092],\n",
              "       [0.20578585],\n",
              "       [0.19098309],\n",
              "       [0.19977458],\n",
              "       [0.19020664],\n",
              "       [0.18239198],\n",
              "       [0.18066374],\n",
              "       [0.17881027],\n",
              "       [0.17668128],\n",
              "       [0.1789856 ],\n",
              "       [0.17089543],\n",
              "       [0.16646212],\n",
              "       [0.18234189],\n",
              "       [0.18960551],\n",
              "       [0.1963181 ],\n",
              "       [0.20866625],\n",
              "       [0.21475266],\n",
              "       [0.22033813],\n",
              "       [0.21878522],\n",
              "       [0.21868503],\n",
              "       [0.21515341],\n",
              "       [0.21803381],\n",
              "       [0.22945523],\n",
              "       [0.2280025 ],\n",
              "       [0.23198497],\n",
              "       [0.23028178],\n",
              "       [0.22978084],\n",
              "       [0.2222417 ],\n",
              "       [0.23283657],\n",
              "       [0.23268629],\n",
              "       [0.22812774],\n",
              "       [0.23721979],\n",
              "       [0.24017533],\n",
              "       [0.24438322],\n",
              "       [0.24393237],\n",
              "       [0.2333876 ],\n",
              "       [0.23644333],\n",
              "       [0.24142768],\n",
              "       [0.23772073],\n",
              "       [0.24160301],\n",
              "       [0.24638698],\n",
              "       [0.24460864],\n",
              "       [0.24172824],\n",
              "       [0.24751409],\n",
              "       [0.23982467],\n",
              "       [0.25142142],\n",
              "       [0.25547902],\n",
              "       [0.25505322],\n",
              "       [0.25092048],\n",
              "       [0.25272386],\n",
              "       [0.25758297],\n",
              "       [0.25532874],\n",
              "       [0.26599875]])"
            ]
          },
          "metadata": {},
          "execution_count": 55
        }
      ]
    },
    {
      "cell_type": "code",
      "source": [
        "model.fit(X_train,y_train,validation_data=(X_test,ytest),epochs=100,batch_size=64,verbose=1)"
      ],
      "metadata": {
        "colab": {
          "base_uri": "https://localhost:8080/"
        },
        "id": "AtxSLYjyIK8D",
        "outputId": "adf0954f-a611-4273-b2d9-bff752ebebfb"
      },
      "execution_count": null,
      "outputs": [
        {
          "output_type": "stream",
          "name": "stdout",
          "text": [
            "Epoch 1/100\n",
            "12/12 [==============================] - 2s 173ms/step - loss: 0.0016 - val_loss: 1.6599e-04\n",
            "Epoch 2/100\n",
            "12/12 [==============================] - 2s 161ms/step - loss: 0.0015 - val_loss: 1.5083e-04\n",
            "Epoch 3/100\n",
            "12/12 [==============================] - 2s 183ms/step - loss: 0.0013 - val_loss: 1.7513e-04\n",
            "Epoch 4/100\n",
            "12/12 [==============================] - 3s 214ms/step - loss: 0.0014 - val_loss: 1.6734e-04\n",
            "Epoch 5/100\n",
            "12/12 [==============================] - 2s 164ms/step - loss: 0.0015 - val_loss: 1.6440e-04\n",
            "Epoch 6/100\n",
            "12/12 [==============================] - 2s 166ms/step - loss: 0.0014 - val_loss: 1.5607e-04\n",
            "Epoch 7/100\n",
            "12/12 [==============================] - 2s 164ms/step - loss: 0.0014 - val_loss: 3.1458e-04\n",
            "Epoch 8/100\n",
            "12/12 [==============================] - 3s 247ms/step - loss: 0.0032 - val_loss: 2.7987e-04\n",
            "Epoch 9/100\n",
            "12/12 [==============================] - 3s 241ms/step - loss: 0.0027 - val_loss: 4.3097e-04\n",
            "Epoch 10/100\n",
            "12/12 [==============================] - 2s 163ms/step - loss: 0.0016 - val_loss: 1.5682e-04\n",
            "Epoch 11/100\n",
            "12/12 [==============================] - 2s 166ms/step - loss: 0.0023 - val_loss: 2.2754e-04\n",
            "Epoch 12/100\n",
            "12/12 [==============================] - 2s 193ms/step - loss: 0.0018 - val_loss: 2.0140e-04\n",
            "Epoch 13/100\n",
            "12/12 [==============================] - 2s 161ms/step - loss: 0.0013 - val_loss: 2.0760e-04\n",
            "Epoch 14/100\n",
            "12/12 [==============================] - 2s 194ms/step - loss: 0.0012 - val_loss: 1.4571e-04\n",
            "Epoch 15/100\n",
            "12/12 [==============================] - 3s 208ms/step - loss: 0.0012 - val_loss: 1.5114e-04\n",
            "Epoch 16/100\n",
            "12/12 [==============================] - 2s 162ms/step - loss: 0.0014 - val_loss: 2.1207e-04\n",
            "Epoch 17/100\n",
            "12/12 [==============================] - 2s 164ms/step - loss: 0.0011 - val_loss: 1.4631e-04\n",
            "Epoch 18/100\n",
            "12/12 [==============================] - 2s 162ms/step - loss: 0.0010 - val_loss: 1.5357e-04\n",
            "Epoch 19/100\n",
            "12/12 [==============================] - 2s 161ms/step - loss: 0.0011 - val_loss: 1.4856e-04\n",
            "Epoch 20/100\n",
            "12/12 [==============================] - 2s 198ms/step - loss: 9.5260e-04 - val_loss: 1.5430e-04\n",
            "Epoch 21/100\n",
            "12/12 [==============================] - 2s 201ms/step - loss: 0.0013 - val_loss: 1.4507e-04\n",
            "Epoch 22/100\n",
            "12/12 [==============================] - 2s 164ms/step - loss: 0.0038 - val_loss: 2.6910e-04\n",
            "Epoch 23/100\n",
            "12/12 [==============================] - 2s 162ms/step - loss: 0.0088 - val_loss: 0.0036\n",
            "Epoch 24/100\n",
            "12/12 [==============================] - 2s 161ms/step - loss: 0.0068 - val_loss: 6.8948e-04\n",
            "Epoch 25/100\n",
            "12/12 [==============================] - 3s 224ms/step - loss: 0.0035 - val_loss: 9.7404e-04\n",
            "Epoch 26/100\n",
            "12/12 [==============================] - 3s 244ms/step - loss: 0.0018 - val_loss: 3.2433e-04\n",
            "Epoch 27/100\n",
            "12/12 [==============================] - 2s 162ms/step - loss: 0.0055 - val_loss: 2.3858e-04\n",
            "Epoch 28/100\n",
            "12/12 [==============================] - 2s 162ms/step - loss: 0.0039 - val_loss: 3.4681e-04\n",
            "Epoch 29/100\n",
            "12/12 [==============================] - 2s 159ms/step - loss: 0.0031 - val_loss: 5.1549e-04\n",
            "Epoch 30/100\n",
            "12/12 [==============================] - 2s 162ms/step - loss: 0.0030 - val_loss: 7.8803e-04\n",
            "Epoch 31/100\n",
            "12/12 [==============================] - 2s 162ms/step - loss: 0.0031 - val_loss: 2.2835e-04\n",
            "Epoch 32/100\n",
            "12/12 [==============================] - 3s 246ms/step - loss: 0.0035 - val_loss: 7.3650e-04\n",
            "Epoch 33/100\n",
            "12/12 [==============================] - 2s 163ms/step - loss: 0.0031 - val_loss: 5.6718e-04\n",
            "Epoch 34/100\n",
            "12/12 [==============================] - 2s 163ms/step - loss: 0.0029 - val_loss: 4.3016e-04\n",
            "Epoch 35/100\n",
            "12/12 [==============================] - 2s 161ms/step - loss: 0.0027 - val_loss: 2.2156e-04\n",
            "Epoch 36/100\n",
            "12/12 [==============================] - 2s 161ms/step - loss: 0.0025 - val_loss: 1.5441e-04\n",
            "Epoch 37/100\n",
            "12/12 [==============================] - 2s 167ms/step - loss: 0.0024 - val_loss: 3.9591e-04\n",
            "Epoch 38/100\n",
            "12/12 [==============================] - 3s 234ms/step - loss: 0.0022 - val_loss: 1.6463e-04\n",
            "Epoch 39/100\n",
            "12/12 [==============================] - 2s 163ms/step - loss: 0.0020 - val_loss: 1.2732e-04\n",
            "Epoch 40/100\n",
            "12/12 [==============================] - 2s 163ms/step - loss: 0.0020 - val_loss: 1.5596e-04\n",
            "Epoch 41/100\n",
            "12/12 [==============================] - 2s 162ms/step - loss: 0.0020 - val_loss: 1.5943e-04\n",
            "Epoch 42/100\n",
            "12/12 [==============================] - 2s 163ms/step - loss: 0.0019 - val_loss: 1.4462e-04\n",
            "Epoch 43/100\n",
            "12/12 [==============================] - 3s 272ms/step - loss: 0.0020 - val_loss: 1.7059e-04\n",
            "Epoch 44/100\n",
            "12/12 [==============================] - 2s 192ms/step - loss: 0.0017 - val_loss: 1.6662e-04\n",
            "Epoch 45/100\n",
            "12/12 [==============================] - 2s 163ms/step - loss: 0.0016 - val_loss: 1.1677e-04\n",
            "Epoch 46/100\n",
            "12/12 [==============================] - 2s 165ms/step - loss: 0.0015 - val_loss: 1.3090e-04\n",
            "Epoch 47/100\n",
            "12/12 [==============================] - 2s 164ms/step - loss: 0.0014 - val_loss: 1.2097e-04\n",
            "Epoch 48/100\n",
            "12/12 [==============================] - 2s 165ms/step - loss: 0.0014 - val_loss: 1.2914e-04\n",
            "Epoch 49/100\n",
            "12/12 [==============================] - 3s 222ms/step - loss: 0.0014 - val_loss: 1.4135e-04\n",
            "Epoch 50/100\n",
            "12/12 [==============================] - 2s 177ms/step - loss: 0.0011 - val_loss: 1.1832e-04\n",
            "Epoch 51/100\n",
            "12/12 [==============================] - 2s 160ms/step - loss: 0.0011 - val_loss: 1.2950e-04\n",
            "Epoch 52/100\n",
            "12/12 [==============================] - 2s 161ms/step - loss: 0.0011 - val_loss: 1.4693e-04\n",
            "Epoch 53/100\n",
            "12/12 [==============================] - 2s 163ms/step - loss: 0.0012 - val_loss: 1.2695e-04\n",
            "Epoch 54/100\n",
            "12/12 [==============================] - 2s 164ms/step - loss: 0.0016 - val_loss: 1.3833e-04\n",
            "Epoch 55/100\n",
            "12/12 [==============================] - 3s 235ms/step - loss: 0.0016 - val_loss: 1.4197e-04\n",
            "Epoch 56/100\n",
            "12/12 [==============================] - 2s 163ms/step - loss: 0.0014 - val_loss: 1.1641e-04\n",
            "Epoch 57/100\n",
            "12/12 [==============================] - 2s 160ms/step - loss: 0.0013 - val_loss: 1.5666e-04\n",
            "Epoch 58/100\n",
            "12/12 [==============================] - 2s 161ms/step - loss: 0.0012 - val_loss: 1.2248e-04\n",
            "Epoch 59/100\n",
            "12/12 [==============================] - 2s 161ms/step - loss: 0.0011 - val_loss: 1.2336e-04\n",
            "Epoch 60/100\n",
            "12/12 [==============================] - 2s 163ms/step - loss: 0.0014 - val_loss: 1.2596e-04\n",
            "Epoch 61/100\n",
            "12/12 [==============================] - 3s 244ms/step - loss: 0.0014 - val_loss: 1.6331e-04\n",
            "Epoch 62/100\n",
            "12/12 [==============================] - 2s 165ms/step - loss: 0.0011 - val_loss: 1.1487e-04\n",
            "Epoch 63/100\n",
            "12/12 [==============================] - 2s 159ms/step - loss: 0.0010 - val_loss: 1.3783e-04\n",
            "Epoch 64/100\n",
            "12/12 [==============================] - 2s 163ms/step - loss: 0.0010 - val_loss: 1.5454e-04\n",
            "Epoch 65/100\n",
            "12/12 [==============================] - 2s 160ms/step - loss: 0.0010 - val_loss: 1.3201e-04\n",
            "Epoch 66/100\n",
            "12/12 [==============================] - 2s 162ms/step - loss: 8.8929e-04 - val_loss: 1.3449e-04\n",
            "Epoch 67/100\n",
            "12/12 [==============================] - 3s 242ms/step - loss: 0.0010 - val_loss: 1.1480e-04\n",
            "Epoch 68/100\n",
            "12/12 [==============================] - 2s 162ms/step - loss: 9.7683e-04 - val_loss: 1.5253e-04\n",
            "Epoch 69/100\n",
            "12/12 [==============================] - 2s 162ms/step - loss: 9.8679e-04 - val_loss: 1.1743e-04\n",
            "Epoch 70/100\n",
            "12/12 [==============================] - 2s 163ms/step - loss: 8.5538e-04 - val_loss: 1.1864e-04\n",
            "Epoch 71/100\n",
            "12/12 [==============================] - 2s 163ms/step - loss: 0.0011 - val_loss: 1.2376e-04\n",
            "Epoch 72/100\n",
            "12/12 [==============================] - 2s 162ms/step - loss: 9.3717e-04 - val_loss: 1.1790e-04\n",
            "Epoch 73/100\n",
            "12/12 [==============================] - 3s 243ms/step - loss: 8.3245e-04 - val_loss: 1.2261e-04\n",
            "Epoch 74/100\n",
            "12/12 [==============================] - 2s 161ms/step - loss: 8.9839e-04 - val_loss: 1.2048e-04\n",
            "Epoch 75/100\n",
            "12/12 [==============================] - 2s 164ms/step - loss: 0.0011 - val_loss: 1.2133e-04\n",
            "Epoch 76/100\n",
            "12/12 [==============================] - 2s 163ms/step - loss: 0.0011 - val_loss: 1.2266e-04\n",
            "Epoch 77/100\n",
            "12/12 [==============================] - 2s 162ms/step - loss: 8.6583e-04 - val_loss: 1.1229e-04\n",
            "Epoch 78/100\n",
            "12/12 [==============================] - 2s 160ms/step - loss: 9.7395e-04 - val_loss: 1.2155e-04\n",
            "Epoch 79/100\n",
            "12/12 [==============================] - 3s 240ms/step - loss: 8.0571e-04 - val_loss: 1.1267e-04\n",
            "Epoch 80/100\n",
            "12/12 [==============================] - 2s 164ms/step - loss: 0.0011 - val_loss: 1.1154e-04\n",
            "Epoch 81/100\n",
            "12/12 [==============================] - 2s 162ms/step - loss: 0.0011 - val_loss: 1.5058e-04\n",
            "Epoch 82/100\n",
            "12/12 [==============================] - 2s 164ms/step - loss: 0.0020 - val_loss: 1.2910e-04\n",
            "Epoch 83/100\n",
            "12/12 [==============================] - 2s 159ms/step - loss: 0.0022 - val_loss: 1.2697e-04\n",
            "Epoch 84/100\n",
            "12/12 [==============================] - 2s 163ms/step - loss: 0.0022 - val_loss: 1.5908e-04\n",
            "Epoch 85/100\n",
            "12/12 [==============================] - 3s 228ms/step - loss: 0.0017 - val_loss: 1.1795e-04\n",
            "Epoch 86/100\n",
            "12/12 [==============================] - 2s 162ms/step - loss: 0.0018 - val_loss: 1.5938e-04\n",
            "Epoch 87/100\n",
            "12/12 [==============================] - 2s 160ms/step - loss: 0.0016 - val_loss: 1.7792e-04\n",
            "Epoch 88/100\n",
            "12/12 [==============================] - 2s 161ms/step - loss: 0.0012 - val_loss: 1.0563e-04\n",
            "Epoch 89/100\n",
            "12/12 [==============================] - 2s 164ms/step - loss: 0.0011 - val_loss: 1.2179e-04\n",
            "Epoch 90/100\n",
            "12/12 [==============================] - 2s 175ms/step - loss: 9.8221e-04 - val_loss: 1.8483e-04\n",
            "Epoch 91/100\n",
            "12/12 [==============================] - 3s 226ms/step - loss: 0.0051 - val_loss: 3.5021e-04\n",
            "Epoch 92/100\n",
            "12/12 [==============================] - 2s 164ms/step - loss: 0.0015 - val_loss: 4.0183e-04\n",
            "Epoch 93/100\n",
            "12/12 [==============================] - 2s 164ms/step - loss: 0.0013 - val_loss: 1.3150e-04\n",
            "Epoch 94/100\n",
            "12/12 [==============================] - 2s 162ms/step - loss: 0.0010 - val_loss: 1.2869e-04\n",
            "Epoch 95/100\n",
            "12/12 [==============================] - 2s 164ms/step - loss: 0.0012 - val_loss: 1.0632e-04\n",
            "Epoch 96/100\n",
            "12/12 [==============================] - 2s 185ms/step - loss: 0.0010 - val_loss: 1.3568e-04\n",
            "Epoch 97/100\n",
            "12/12 [==============================] - 3s 208ms/step - loss: 0.0011 - val_loss: 1.0565e-04\n",
            "Epoch 98/100\n",
            "12/12 [==============================] - 2s 163ms/step - loss: 0.0025 - val_loss: 1.6695e-04\n",
            "Epoch 99/100\n",
            "12/12 [==============================] - 2s 162ms/step - loss: 0.0011 - val_loss: 1.0273e-04\n",
            "Epoch 100/100\n",
            "12/12 [==============================] - 2s 160ms/step - loss: 0.0010 - val_loss: 1.2056e-04\n"
          ]
        },
        {
          "output_type": "execute_result",
          "data": {
            "text/plain": [
              "<keras.src.callbacks.History at 0x7be1b6a67c70>"
            ]
          },
          "metadata": {},
          "execution_count": 58
        }
      ]
    },
    {
      "cell_type": "code",
      "source": [],
      "metadata": {
        "id": "eU8oz0paCyQk"
      },
      "execution_count": null,
      "outputs": []
    },
    {
      "cell_type": "code",
      "source": [
        "### Lets Do the prediction and check performance metrics\n",
        "train_predict=model.predict(X_train)\n",
        "test_predict = model.predict(X_test)"
      ],
      "metadata": {
        "colab": {
          "base_uri": "https://localhost:8080/"
        },
        "id": "k1_CCUb-JgFf",
        "outputId": "9bdf2c23-0af2-4d29-a1a9-55cb1779d10f"
      },
      "execution_count": null,
      "outputs": [
        {
          "output_type": "stream",
          "name": "stdout",
          "text": [
            "23/23 [==============================] - 2s 32ms/step\n",
            "11/11 [==============================] - 0s 33ms/step\n"
          ]
        }
      ]
    },
    {
      "cell_type": "code",
      "source": [
        "## Transformback to original form\n",
        "train_predict=scaler.inverse_transform(train_predict)\n",
        "test_predict=scaler.inverse_transform(test_predict)\n"
      ],
      "metadata": {
        "id": "_xmqO1tfLAy6"
      },
      "execution_count": null,
      "outputs": []
    },
    {
      "cell_type": "code",
      "source": [
        "### Calculated RMSE performance metrics\n",
        "import math\n",
        "from sklearn.metrics import mean_squared_error\n",
        "math.sqrt(mean_squared_error(y_train,train_predict))"
      ],
      "metadata": {
        "colab": {
          "base_uri": "https://localhost:8080/"
        },
        "id": "wu8IXpijLamD",
        "outputId": "d03522b2-8ec8-4598-d79a-be16ac885075"
      },
      "execution_count": null,
      "outputs": [
        {
          "output_type": "execute_result",
          "data": {
            "text/plain": [
              "218.47553812488698"
            ]
          },
          "metadata": {},
          "execution_count": 27
        }
      ]
    },
    {
      "cell_type": "code",
      "source": [
        "### Test data RMSE\n",
        "math.sqrt(mean_squared_error(ytest,test_predict))"
      ],
      "metadata": {
        "colab": {
          "base_uri": "https://localhost:8080/"
        },
        "id": "bcK4XJTVLyv_",
        "outputId": "6fad5f59-d38b-40ee-dd41-785c3a3dc5dd"
      },
      "execution_count": null,
      "outputs": [
        {
          "output_type": "execute_result",
          "data": {
            "text/plain": [
              "172.43356361013326"
            ]
          },
          "metadata": {},
          "execution_count": 28
        }
      ]
    },
    {
      "cell_type": "code",
      "source": [
        "### Plotting\n",
        "# shift train predictions for plotting\n",
        "look_back = 100\n",
        "trainPredictPlot = numpy.empty_like(df1)\n",
        "trainPredictPlot[:, :] = np.nan\n",
        "trainPredictPlot[look_back:len(train_predict)+look_back, :] = train_predict\n",
        "\n",
        "#Shift test predictions for plotting\n",
        "\n",
        "testPredictPlot = numpy.empty_like(df1)\n",
        "testPredictPlot[: , :]=np.nan\n",
        "testPredictPlot[len(train_predict)+(look_back*2)+1:len(df1)-1, :] = test_predict\n",
        "\n",
        "#plot baseline and predictions\n",
        "\n",
        "plt.plot(scaler.inverse_transform(df1))\n",
        "plt.plot(trainPredictPlot)\n",
        "plt.plot(testPredictPlot)\n",
        "plt.show()\n"
      ],
      "metadata": {
        "colab": {
          "base_uri": "https://localhost:8080/",
          "height": 430
        },
        "id": "SziqIDfcMGq_",
        "outputId": "30c99ab7-18ec-41f7-a0b3-6c4432b45811"
      },
      "execution_count": null,
      "outputs": [
        {
          "output_type": "display_data",
          "data": {
            "text/plain": [
              "<Figure size 640x480 with 1 Axes>"
            ],
            "image/png": "[encoded data removed]"
          },
          "metadata": {}
        }
      ]
    },
    {
      "cell_type": "code",
      "source": [
        "X_test"
      ],
      "metadata": {
        "colab": {
          "base_uri": "https://localhost:8080/"
        },
        "id": "_Ubhht2OEpPl",
        "outputId": "c4b5409a-c3d5-4da9-df03-31d260046944"
      },
      "execution_count": null,
      "outputs": [
        {
          "output_type": "execute_result",
          "data": {
            "text/plain": [
              "array([[[0.09843456],\n",
              "        [0.10487163],\n",
              "        [0.10299311],\n",
              "        ...,\n",
              "        [0.10672511],\n",
              "        [0.11396368],\n",
              "        [0.10647464]],\n",
              "\n",
              "       [[0.10487163],\n",
              "        [0.10299311],\n",
              "        [0.08966813],\n",
              "        ...,\n",
              "        [0.11396368],\n",
              "        [0.10647464],\n",
              "        [0.09507827]],\n",
              "\n",
              "       [[0.10299311],\n",
              "        [0.08966813],\n",
              "        [0.07586725],\n",
              "        ...,\n",
              "        [0.10647464],\n",
              "        [0.09507827],\n",
              "        [0.12247965]],\n",
              "\n",
              "       ...,\n",
              "\n",
              "       [[0.18071384],\n",
              "        [0.17921102],\n",
              "        [0.18274264],\n",
              "        ...,\n",
              "        [0.18680025],\n",
              "        [0.1851221 ],\n",
              "        [0.18239198]],\n",
              "\n",
              "       [[0.17921102],\n",
              "        [0.18274264],\n",
              "        [0.18502192],\n",
              "        ...,\n",
              "        [0.1851221 ],\n",
              "        [0.18239198],\n",
              "        [0.17097057]],\n",
              "\n",
              "       [[0.18274264],\n",
              "        [0.18502192],\n",
              "        [0.18036318],\n",
              "        ...,\n",
              "        [0.18239198],\n",
              "        [0.17097057],\n",
              "        [0.15849718]]])"
            ]
          },
          "metadata": {},
          "execution_count": 59
        }
      ]
    },
    {
      "cell_type": "code",
      "source": [
        "len(test_data)"
      ],
      "metadata": {
        "id": "6cLo15UXORxh",
        "colab": {
          "base_uri": "https://localhost:8080/"
        },
        "outputId": "06b5f86d-541d-4908-b30a-835a23d9ade1"
      },
      "execution_count": null,
      "outputs": [
        {
          "output_type": "execute_result",
          "data": {
            "text/plain": [
              "441"
            ]
          },
          "metadata": {},
          "execution_count": 30
        }
      ]
    },
    {
      "cell_type": "code",
      "source": [
        "x_input = test_data[341:].reshape(1,-1)\n",
        "x_input.shape"
      ],
      "metadata": {
        "colab": {
          "base_uri": "https://localhost:8080/"
        },
        "id": "NUsZw4eZKwFx",
        "outputId": "778f11d2-636e-4d4a-fb78-df872cba733c"
      },
      "execution_count": null,
      "outputs": [
        {
          "output_type": "execute_result",
          "data": {
            "text/plain": [
              "(1, 100)"
            ]
          },
          "metadata": {},
          "execution_count": 31
        }
      ]
    },
    {
      "cell_type": "code",
      "source": [
        "temp_input = list(x_input)\n",
        "temp_input=temp_input[0].tolist()"
      ],
      "metadata": {
        "id": "-gPbsjR1LLy5"
      },
      "execution_count": null,
      "outputs": []
    },
    {
      "cell_type": "code",
      "source": [
        "temp_input"
      ],
      "metadata": {
        "colab": {
          "base_uri": "https://localhost:8080/"
        },
        "id": "-3iylXptM3Ps",
        "outputId": "573ca01f-5548-4a23-9ce2-1d1272703779"
      },
      "execution_count": null,
      "outputs": [
        {
          "output_type": "execute_result",
          "data": {
            "text/plain": [
              "[0.18036318096430803,\n",
              " 0.18003757044458357,\n",
              " 0.17610519724483403,\n",
              " 0.17282404508453347,\n",
              " 0.17187226048841575,\n",
              " 0.1654101440200375,\n",
              " 0.1657107075767063,\n",
              " 0.1668127739511584,\n",
              " 0.16095178459611764,\n",
              " 0.15040701314965554,\n",
              " 0.1537382592360676,\n",
              " 0.15892298058860355,\n",
              " 0.16012523481527863,\n",
              " 0.16814026299311202,\n",
              " 0.17715716969317463,\n",
              " 0.17485284909204757,\n",
              " 0.1813149655604257,\n",
              " 0.18780212899185966,\n",
              " 0.19048215403882274,\n",
              " 0.1892798998121477,\n",
              " 0.19927363807138382,\n",
              " 0.19526612398246712,\n",
              " 0.20187852222917968,\n",
              " 0.20330619912335623,\n",
              " 0.2075641828428303,\n",
              " 0.2075140889167188,\n",
              " 0.21192235441452717,\n",
              " 0.20989355040701307,\n",
              " 0.211571696931747,\n",
              " 0.20821540388227922,\n",
              " 0.2077645585472761,\n",
              " 0.2092924232936756,\n",
              " 0.20671258609893545,\n",
              " 0.20816530995616772,\n",
              " 0.2113963681903569,\n",
              " 0.20686286787726987,\n",
              " 0.21685660613650587,\n",
              " 0.21410144020037564,\n",
              " 0.21898559799624295,\n",
              " 0.22259236067626798,\n",
              " 0.21625547902316838,\n",
              " 0.22008766437069505,\n",
              " 0.2282279273638071,\n",
              " 0.22860363180964305,\n",
              " 0.2272510958046336,\n",
              " 0.22304320601127103,\n",
              " 0.22567313713212267,\n",
              " 0.2203882279273638,\n",
              " 0.22001252348152783,\n",
              " 0.21730745147150904,\n",
              " 0.21592986850344392,\n",
              " 0.21618033813400123,\n",
              " 0.2172573575453976,\n",
              " 0.21462742642454596,\n",
              " 0.19737006887914832,\n",
              " 0.19388854101440195,\n",
              " 0.18802755165936125,\n",
              " 0.18619912335629302,\n",
              " 0.1971696931747025,\n",
              " 0.19611772072636185,\n",
              " 0.1987476518472135,\n",
              " 0.19724483406386972,\n",
              " 0.19807138384470874,\n",
              " 0.19233562930494674,\n",
              " 0.18995616781465247,\n",
              " 0.20485911083281144,\n",
              " 0.21219787100814025,\n",
              " 0.21803381340012518,\n",
              " 0.2212648716343143,\n",
              " 0.21956167814652466,\n",
              " 0.2187351283656856,\n",
              " 0.21435190983093294,\n",
              " 0.2126236693800876,\n",
              " 0.2033813400125234,\n",
              " 0.1942642454602379,\n",
              " 0.2004257983719474,\n",
              " 0.19789605510331865,\n",
              " 0.20247964934251717,\n",
              " 0.20653725735754536,\n",
              " 0.20681277395115838,\n",
              " 0.20408265497808387,\n",
              " 0.2054101440200375,\n",
              " 0.20115216030056354,\n",
              " 0.19586725109580455,\n",
              " 0.1936380713838447,\n",
              " 0.19291170945522856,\n",
              " 0.18902943018159046,\n",
              " 0.18715090795241074,\n",
              " 0.18905447714464613,\n",
              " 0.19418910457107075,\n",
              " 0.1895554164057608,\n",
              " 0.18614902943018152,\n",
              " 0.18983093299937376,\n",
              " 0.1868002504696305,\n",
              " 0.18512210394489664,\n",
              " 0.18239198497182213,\n",
              " 0.17097056981840947,\n",
              " 0.1584971822166562,\n",
              " 0.15599248591108322,\n",
              " 0.15569192235441448]"
            ]
          },
          "metadata": {},
          "execution_count": 37
        }
      ]
    },
    {
      "cell_type": "code",
      "source": [
        "# demonstrate prediction for next 10 days\n",
        "\n",
        "from numpy import array\n",
        "\n",
        "lst_output=[]\n",
        "n_steps=100\n",
        "i=0\n",
        "while(i<30):\n",
        "  if(len(temp_input)>100):\n",
        "    #print(temp_input)\n",
        "    x_input=np.array(temp_input[1:])\n",
        "    print(\"{} day input {}\".format(i,x_input))\n",
        "    x_input=x_input.reshape(1,-1)\n",
        "    x_input= x_input.reshape((1,n_steps,1))\n",
        "    #print(x_input)\n",
        "    yhat=model.predict(x_input,verbose=0)\n",
        "    print(\"{} day output {}\".format(i,yhat))\n",
        "    temp_input.extend(yhat[0].tolist())\n",
        "    temp_input=temp_input[1:]\n",
        "    #print(temp_input)\n",
        "    lst_output.extend(yhat.tolist())\n",
        "    i=i+1\n",
        "  else:\n",
        "\n",
        "    yhat = model.predict(x_input , verbose=0)\n",
        "    print(yhat[0])\n",
        "    temp_input.extend(yhat[0].tolist())\n",
        "    print(len(temp_input))\n",
        "    lst_output.extend(yhat.tolist())\n",
        "    i=i+1\n",
        "\n",
        "\n",
        "print(lst_output)\n"
      ],
      "metadata": {
        "colab": {
          "base_uri": "https://localhost:8080/",
          "height": 755
        },
        "id": "5N3MzLl3MMsT",
        "outputId": "c00ba015-d151-4a26-c9d8-ed73560c735f"
      },
      "execution_count": null,
      "outputs": [
        {
          "output_type": "error",
          "ename": "TypeError",
          "evalue": "in user code:\n\n    File \"/usr/local/lib/python3.10/dist-packages/keras/src/engine/training.py\", line 2440, in predict_function  *\n        return step_function(self, iterator)\n    File \"/usr/local/lib/python3.10/dist-packages/keras/src/engine/training.py\", line 2425, in step_function  **\n        outputs = model.distribute_strategy.run(run_step, args=(data,))\n    File \"/usr/local/lib/python3.10/dist-packages/keras/src/engine/training.py\", line 2413, in run_step  **\n        outputs = model.predict_step(data)\n    File \"/usr/local/lib/python3.10/dist-packages/keras/src/engine/training.py\", line 2381, in predict_step\n        return self(x, training=False)\n    File \"/usr/local/lib/python3.10/dist-packages/keras/src/utils/traceback_utils.py\", line 70, in error_handler\n        raise e.with_traceback(filtered_tb) from None\n    File \"/usr/local/lib/python3.10/dist-packages/keras/src/layers/rnn/lstm.py\", line 616, in call\n        timesteps = input_shape[0] if self.time_major else input_shape[1]\n\n    TypeError: Exception encountered when calling layer 'lstm' (type LSTM).\n    \n    'NoneType' object is not subscriptable\n    \n    Call arguments received by layer 'lstm' (type LSTM):\n      • inputs=tf.Tensor(shape=<unknown>, dtype=float32)\n      • mask=None\n      • training=False\n      • initial_state=None\n",
          "traceback": [
            "\u001b[0;31m---------------------------------------------------------------------------\u001b[0m",
            "\u001b[0;31mTypeError\u001b[0m                                 Traceback (most recent call last)",
            "\u001b[0;32m<ipython-input-39-1a92ab62b362>\u001b[0m in \u001b[0;36m<cell line: 8>\u001b[0;34m()\u001b[0m\n\u001b[1;32m     23\u001b[0m   \u001b[0;32melse\u001b[0m\u001b[0;34m:\u001b[0m\u001b[0;34m\u001b[0m\u001b[0;34m\u001b[0m\u001b[0m\n\u001b[1;32m     24\u001b[0m \u001b[0;34m\u001b[0m\u001b[0m\n\u001b[0;32m---> 25\u001b[0;31m     \u001b[0myhat\u001b[0m \u001b[0;34m=\u001b[0m \u001b[0mmodel\u001b[0m\u001b[0;34m.\u001b[0m\u001b[0mpredict\u001b[0m\u001b[0;34m(\u001b[0m\u001b[0mx_input\u001b[0m \u001b[0;34m,\u001b[0m \u001b[0mverbose\u001b[0m\u001b[0;34m=\u001b[0m\u001b[0;36m0\u001b[0m\u001b[0;34m)\u001b[0m\u001b[0;34m\u001b[0m\u001b[0;34m\u001b[0m\u001b[0m\n\u001b[0m\u001b[1;32m     26\u001b[0m     \u001b[0mprint\u001b[0m\u001b[0;34m(\u001b[0m\u001b[0myhat\u001b[0m\u001b[0;34m[\u001b[0m\u001b[0;36m0\u001b[0m\u001b[0;34m]\u001b[0m\u001b[0;34m)\u001b[0m\u001b[0;34m\u001b[0m\u001b[0;34m\u001b[0m\u001b[0m\n\u001b[1;32m     27\u001b[0m     \u001b[0mtemp_input\u001b[0m\u001b[0;34m.\u001b[0m\u001b[0mextend\u001b[0m\u001b[0;34m(\u001b[0m\u001b[0myhat\u001b[0m\u001b[0;34m[\u001b[0m\u001b[0;36m0\u001b[0m\u001b[0;34m]\u001b[0m\u001b[0;34m.\u001b[0m\u001b[0mtolist\u001b[0m\u001b[0;34m(\u001b[0m\u001b[0;34m)\u001b[0m\u001b[0;34m)\u001b[0m\u001b[0;34m\u001b[0m\u001b[0;34m\u001b[0m\u001b[0m\n",
            "\u001b[0;32m/usr/local/lib/python3.10/dist-packages/keras/src/utils/traceback_utils.py\u001b[0m in \u001b[0;36merror_handler\u001b[0;34m(*args, **kwargs)\u001b[0m\n\u001b[1;32m     68\u001b[0m             \u001b[0;31m# To get the full stack trace, call:\u001b[0m\u001b[0;34m\u001b[0m\u001b[0;34m\u001b[0m\u001b[0m\n\u001b[1;32m     69\u001b[0m             \u001b[0;31m# `tf.debugging.disable_traceback_filtering()`\u001b[0m\u001b[0;34m\u001b[0m\u001b[0;34m\u001b[0m\u001b[0m\n\u001b[0;32m---> 70\u001b[0;31m             \u001b[0;32mraise\u001b[0m \u001b[0me\u001b[0m\u001b[0;34m.\u001b[0m\u001b[0mwith_traceback\u001b[0m\u001b[0;34m(\u001b[0m\u001b[0mfiltered_tb\u001b[0m\u001b[0;34m)\u001b[0m \u001b[0;32mfrom\u001b[0m \u001b[0;32mNone\u001b[0m\u001b[0;34m\u001b[0m\u001b[0;34m\u001b[0m\u001b[0m\n\u001b[0m\u001b[1;32m     71\u001b[0m         \u001b[0;32mfinally\u001b[0m\u001b[0;34m:\u001b[0m\u001b[0;34m\u001b[0m\u001b[0;34m\u001b[0m\u001b[0m\n\u001b[1;32m     72\u001b[0m             \u001b[0;32mdel\u001b[0m \u001b[0mfiltered_tb\u001b[0m\u001b[0;34m\u001b[0m\u001b[0;34m\u001b[0m\u001b[0m\n",
            "\u001b[0;32m/usr/local/lib/python3.10/dist-packages/keras/src/engine/training.py\u001b[0m in \u001b[0;36mtf__predict_function\u001b[0;34m(iterator)\u001b[0m\n\u001b[1;32m     13\u001b[0m                 \u001b[0;32mtry\u001b[0m\u001b[0;34m:\u001b[0m\u001b[0;34m\u001b[0m\u001b[0;34m\u001b[0m\u001b[0m\n\u001b[1;32m     14\u001b[0m                     \u001b[0mdo_return\u001b[0m \u001b[0;34m=\u001b[0m \u001b[0;32mTrue\u001b[0m\u001b[0;34m\u001b[0m\u001b[0;34m\u001b[0m\u001b[0m\n\u001b[0;32m---> 15\u001b[0;31m                     \u001b[0mretval_\u001b[0m \u001b[0;34m=\u001b[0m \u001b[0mag__\u001b[0m\u001b[0;34m.\u001b[0m\u001b[0mconverted_call\u001b[0m\u001b[0;34m(\u001b[0m\u001b[0mag__\u001b[0m\u001b[0;34m.\u001b[0m\u001b[0mld\u001b[0m\u001b[0;34m(\u001b[0m\u001b[0mstep_function\u001b[0m\u001b[0;34m)\u001b[0m\u001b[0;34m,\u001b[0m \u001b[0;34m(\u001b[0m\u001b[0mag__\u001b[0m\u001b[0;34m.\u001b[0m\u001b[0mld\u001b[0m\u001b[0;34m(\u001b[0m\u001b[0mself\u001b[0m\u001b[0;34m)\u001b[0m\u001b[0;34m,\u001b[0m \u001b[0mag__\u001b[0m\u001b[0;34m.\u001b[0m\u001b[0mld\u001b[0m\u001b[0;34m(\u001b[0m\u001b[0miterator\u001b[0m\u001b[0;34m)\u001b[0m\u001b[0;34m)\u001b[0m\u001b[0;34m,\u001b[0m \u001b[0;32mNone\u001b[0m\u001b[0;34m,\u001b[0m \u001b[0mfscope\u001b[0m\u001b[0;34m)\u001b[0m\u001b[0;34m\u001b[0m\u001b[0;34m\u001b[0m\u001b[0m\n\u001b[0m\u001b[1;32m     16\u001b[0m                 \u001b[0;32mexcept\u001b[0m\u001b[0;34m:\u001b[0m\u001b[0;34m\u001b[0m\u001b[0;34m\u001b[0m\u001b[0m\n\u001b[1;32m     17\u001b[0m                     \u001b[0mdo_return\u001b[0m \u001b[0;34m=\u001b[0m \u001b[0;32mFalse\u001b[0m\u001b[0;34m\u001b[0m\u001b[0;34m\u001b[0m\u001b[0m\n",
            "\u001b[0;31mTypeError\u001b[0m: in user code:\n\n    File \"/usr/local/lib/python3.10/dist-packages/keras/src/engine/training.py\", line 2440, in predict_function  *\n        return step_function(self, iterator)\n    File \"/usr/local/lib/python3.10/dist-packages/keras/src/engine/training.py\", line 2425, in step_function  **\n        outputs = model.distribute_strategy.run(run_step, args=(data,))\n    File \"/usr/local/lib/python3.10/dist-packages/keras/src/engine/training.py\", line 2413, in run_step  **\n        outputs = model.predict_step(data)\n    File \"/usr/local/lib/python3.10/dist-packages/keras/src/engine/training.py\", line 2381, in predict_step\n        return self(x, training=False)\n    File \"/usr/local/lib/python3.10/dist-packages/keras/src/utils/traceback_utils.py\", line 70, in error_handler\n        raise e.with_traceback(filtered_tb) from None\n    File \"/usr/local/lib/python3.10/dist-packages/keras/src/layers/rnn/lstm.py\", line 616, in call\n        timesteps = input_shape[0] if self.time_major else input_shape[1]\n\n    TypeError: Exception encountered when calling layer 'lstm' (type LSTM).\n    \n    'NoneType' object is not subscriptable\n    \n    Call arguments received by layer 'lstm' (type LSTM):\n      • inputs=tf.Tensor(shape=<unknown>, dtype=float32)\n      • mask=None\n      • training=False\n      • initial_state=None\n"
          ]
        }
      ]
    },
    {
      "cell_type": "code",
      "source": [
        "day_new=np.arange(1,101)\n",
        "day_pred=np.arange(101,131)"
      ],
      "metadata": {
        "id": "HBVvqyCuQAP4"
      },
      "execution_count": null,
      "outputs": []
    },
    {
      "cell_type": "code",
      "source": [
        "import matplotlib.pyplot as plt"
      ],
      "metadata": {
        "id": "cxwKTqS_RSy2"
      },
      "execution_count": null,
      "outputs": []
    },
    {
      "cell_type": "code",
      "source": [
        "len(df1)"
      ],
      "metadata": {
        "colab": {
          "base_uri": "https://localhost:8080/"
        },
        "id": "QJrpeTM2RZrk",
        "outputId": "8f316465-6ec3-413e-acd5-7e628ac6d2a2"
      },
      "execution_count": null,
      "outputs": [
        {
          "output_type": "execute_result",
          "data": {
            "text/plain": [
              "1258"
            ]
          },
          "metadata": {},
          "execution_count": 42
        }
      ]
    },
    {
      "cell_type": "code",
      "source": [
        "df3=df1.tolist()\n",
        "df3.extend(lst_output)"
      ],
      "metadata": {
        "id": "gSTK3EkfRcLC"
      },
      "execution_count": null,
      "outputs": []
    },
    {
      "cell_type": "code",
      "source": [
        "plt.plot(day_new , scaler.inverse_transform(df1[1157:]))\n",
        "plt.plot(day_pred, scaler.inverse_transform(lst_output))"
      ],
      "metadata": {
        "colab": {
          "base_uri": "https://localhost:8080/",
          "height": 722
        },
        "id": "6J9Hdfq2RmN8",
        "outputId": "3860d389-1680-4e62-de9e-54ea67fab375"
      },
      "execution_count": null,
      "outputs": [
        {
          "output_type": "error",
          "ename": "ValueError",
          "evalue": "x and y must have same first dimension, but have shapes (100,) and (101, 1)",
          "traceback": [
            "\u001b[0;31m---------------------------------------------------------------------------\u001b[0m",
            "\u001b[0;31mValueError\u001b[0m                                Traceback (most recent call last)",
            "\u001b[0;32m<ipython-input-44-8d0a0607271e>\u001b[0m in \u001b[0;36m<cell line: 1>\u001b[0;34m()\u001b[0m\n\u001b[0;32m----> 1\u001b[0;31m \u001b[0mplt\u001b[0m\u001b[0;34m.\u001b[0m\u001b[0mplot\u001b[0m\u001b[0;34m(\u001b[0m\u001b[0mday_new\u001b[0m \u001b[0;34m,\u001b[0m \u001b[0mscaler\u001b[0m\u001b[0;34m.\u001b[0m\u001b[0minverse_transform\u001b[0m\u001b[0;34m(\u001b[0m\u001b[0mdf1\u001b[0m\u001b[0;34m[\u001b[0m\u001b[0;36m1157\u001b[0m\u001b[0;34m:\u001b[0m\u001b[0;34m]\u001b[0m\u001b[0;34m)\u001b[0m\u001b[0;34m)\u001b[0m\u001b[0;34m\u001b[0m\u001b[0;34m\u001b[0m\u001b[0m\n\u001b[0m\u001b[1;32m      2\u001b[0m \u001b[0mplt\u001b[0m\u001b[0;34m.\u001b[0m\u001b[0mplot\u001b[0m\u001b[0;34m(\u001b[0m\u001b[0mday_pred\u001b[0m\u001b[0;34m,\u001b[0m \u001b[0mscaler\u001b[0m\u001b[0;34m.\u001b[0m\u001b[0minverse_transform\u001b[0m\u001b[0;34m(\u001b[0m\u001b[0mlst_output\u001b[0m\u001b[0;34m)\u001b[0m\u001b[0;34m)\u001b[0m\u001b[0;34m\u001b[0m\u001b[0;34m\u001b[0m\u001b[0m\n",
            "\u001b[0;32m/usr/local/lib/python3.10/dist-packages/matplotlib/pyplot.py\u001b[0m in \u001b[0;36mplot\u001b[0;34m(scalex, scaley, data, *args, **kwargs)\u001b[0m\n\u001b[1;32m   2810\u001b[0m \u001b[0;34m@\u001b[0m\u001b[0m_copy_docstring_and_deprecators\u001b[0m\u001b[0;34m(\u001b[0m\u001b[0mAxes\u001b[0m\u001b[0;34m.\u001b[0m\u001b[0mplot\u001b[0m\u001b[0;34m)\u001b[0m\u001b[0;34m\u001b[0m\u001b[0;34m\u001b[0m\u001b[0m\n\u001b[1;32m   2811\u001b[0m \u001b[0;32mdef\u001b[0m \u001b[0mplot\u001b[0m\u001b[0;34m(\u001b[0m\u001b[0;34m*\u001b[0m\u001b[0margs\u001b[0m\u001b[0;34m,\u001b[0m \u001b[0mscalex\u001b[0m\u001b[0;34m=\u001b[0m\u001b[0;32mTrue\u001b[0m\u001b[0;34m,\u001b[0m \u001b[0mscaley\u001b[0m\u001b[0;34m=\u001b[0m\u001b[0;32mTrue\u001b[0m\u001b[0;34m,\u001b[0m \u001b[0mdata\u001b[0m\u001b[0;34m=\u001b[0m\u001b[0;32mNone\u001b[0m\u001b[0;34m,\u001b[0m \u001b[0;34m**\u001b[0m\u001b[0mkwargs\u001b[0m\u001b[0;34m)\u001b[0m\u001b[0;34m:\u001b[0m\u001b[0;34m\u001b[0m\u001b[0;34m\u001b[0m\u001b[0m\n\u001b[0;32m-> 2812\u001b[0;31m     return gca().plot(\n\u001b[0m\u001b[1;32m   2813\u001b[0m         \u001b[0;34m*\u001b[0m\u001b[0margs\u001b[0m\u001b[0;34m,\u001b[0m \u001b[0mscalex\u001b[0m\u001b[0;34m=\u001b[0m\u001b[0mscalex\u001b[0m\u001b[0;34m,\u001b[0m \u001b[0mscaley\u001b[0m\u001b[0;34m=\u001b[0m\u001b[0mscaley\u001b[0m\u001b[0;34m,\u001b[0m\u001b[0;34m\u001b[0m\u001b[0;34m\u001b[0m\u001b[0m\n\u001b[1;32m   2814\u001b[0m         **({\"data\": data} if data is not None else {}), **kwargs)\n",
            "\u001b[0;32m/usr/local/lib/python3.10/dist-packages/matplotlib/axes/_axes.py\u001b[0m in \u001b[0;36mplot\u001b[0;34m(self, scalex, scaley, data, *args, **kwargs)\u001b[0m\n\u001b[1;32m   1686\u001b[0m         \"\"\"\n\u001b[1;32m   1687\u001b[0m         \u001b[0mkwargs\u001b[0m \u001b[0;34m=\u001b[0m \u001b[0mcbook\u001b[0m\u001b[0;34m.\u001b[0m\u001b[0mnormalize_kwargs\u001b[0m\u001b[0;34m(\u001b[0m\u001b[0mkwargs\u001b[0m\u001b[0;34m,\u001b[0m \u001b[0mmlines\u001b[0m\u001b[0;34m.\u001b[0m\u001b[0mLine2D\u001b[0m\u001b[0;34m)\u001b[0m\u001b[0;34m\u001b[0m\u001b[0;34m\u001b[0m\u001b[0m\n\u001b[0;32m-> 1688\u001b[0;31m         \u001b[0mlines\u001b[0m \u001b[0;34m=\u001b[0m \u001b[0;34m[\u001b[0m\u001b[0;34m*\u001b[0m\u001b[0mself\u001b[0m\u001b[0;34m.\u001b[0m\u001b[0m_get_lines\u001b[0m\u001b[0;34m(\u001b[0m\u001b[0;34m*\u001b[0m\u001b[0margs\u001b[0m\u001b[0;34m,\u001b[0m \u001b[0mdata\u001b[0m\u001b[0;34m=\u001b[0m\u001b[0mdata\u001b[0m\u001b[0;34m,\u001b[0m \u001b[0;34m**\u001b[0m\u001b[0mkwargs\u001b[0m\u001b[0;34m)\u001b[0m\u001b[0;34m]\u001b[0m\u001b[0;34m\u001b[0m\u001b[0;34m\u001b[0m\u001b[0m\n\u001b[0m\u001b[1;32m   1689\u001b[0m         \u001b[0;32mfor\u001b[0m \u001b[0mline\u001b[0m \u001b[0;32min\u001b[0m \u001b[0mlines\u001b[0m\u001b[0;34m:\u001b[0m\u001b[0;34m\u001b[0m\u001b[0;34m\u001b[0m\u001b[0m\n\u001b[1;32m   1690\u001b[0m             \u001b[0mself\u001b[0m\u001b[0;34m.\u001b[0m\u001b[0madd_line\u001b[0m\u001b[0;34m(\u001b[0m\u001b[0mline\u001b[0m\u001b[0;34m)\u001b[0m\u001b[0;34m\u001b[0m\u001b[0;34m\u001b[0m\u001b[0m\n",
            "\u001b[0;32m/usr/local/lib/python3.10/dist-packages/matplotlib/axes/_base.py\u001b[0m in \u001b[0;36m__call__\u001b[0;34m(self, data, *args, **kwargs)\u001b[0m\n\u001b[1;32m    309\u001b[0m                 \u001b[0mthis\u001b[0m \u001b[0;34m+=\u001b[0m \u001b[0margs\u001b[0m\u001b[0;34m[\u001b[0m\u001b[0;36m0\u001b[0m\u001b[0;34m]\u001b[0m\u001b[0;34m,\u001b[0m\u001b[0;34m\u001b[0m\u001b[0;34m\u001b[0m\u001b[0m\n\u001b[1;32m    310\u001b[0m                 \u001b[0margs\u001b[0m \u001b[0;34m=\u001b[0m \u001b[0margs\u001b[0m\u001b[0;34m[\u001b[0m\u001b[0;36m1\u001b[0m\u001b[0;34m:\u001b[0m\u001b[0;34m]\u001b[0m\u001b[0;34m\u001b[0m\u001b[0;34m\u001b[0m\u001b[0m\n\u001b[0;32m--> 311\u001b[0;31m             yield from self._plot_args(\n\u001b[0m\u001b[1;32m    312\u001b[0m                 this, kwargs, ambiguous_fmt_datakey=ambiguous_fmt_datakey)\n\u001b[1;32m    313\u001b[0m \u001b[0;34m\u001b[0m\u001b[0m\n",
            "\u001b[0;32m/usr/local/lib/python3.10/dist-packages/matplotlib/axes/_base.py\u001b[0m in \u001b[0;36m_plot_args\u001b[0;34m(self, tup, kwargs, return_kwargs, ambiguous_fmt_datakey)\u001b[0m\n\u001b[1;32m    502\u001b[0m \u001b[0;34m\u001b[0m\u001b[0m\n\u001b[1;32m    503\u001b[0m         \u001b[0;32mif\u001b[0m \u001b[0mx\u001b[0m\u001b[0;34m.\u001b[0m\u001b[0mshape\u001b[0m\u001b[0;34m[\u001b[0m\u001b[0;36m0\u001b[0m\u001b[0;34m]\u001b[0m \u001b[0;34m!=\u001b[0m \u001b[0my\u001b[0m\u001b[0;34m.\u001b[0m\u001b[0mshape\u001b[0m\u001b[0;34m[\u001b[0m\u001b[0;36m0\u001b[0m\u001b[0;34m]\u001b[0m\u001b[0;34m:\u001b[0m\u001b[0;34m\u001b[0m\u001b[0;34m\u001b[0m\u001b[0m\n\u001b[0;32m--> 504\u001b[0;31m             raise ValueError(f\"x and y must have same first dimension, but \"\n\u001b[0m\u001b[1;32m    505\u001b[0m                              f\"have shapes {x.shape} and {y.shape}\")\n\u001b[1;32m    506\u001b[0m         \u001b[0;32mif\u001b[0m \u001b[0mx\u001b[0m\u001b[0;34m.\u001b[0m\u001b[0mndim\u001b[0m \u001b[0;34m>\u001b[0m \u001b[0;36m2\u001b[0m \u001b[0;32mor\u001b[0m \u001b[0my\u001b[0m\u001b[0;34m.\u001b[0m\u001b[0mndim\u001b[0m \u001b[0;34m>\u001b[0m \u001b[0;36m2\u001b[0m\u001b[0;34m:\u001b[0m\u001b[0;34m\u001b[0m\u001b[0;34m\u001b[0m\u001b[0m\n",
            "\u001b[0;31mValueError\u001b[0m: x and y must have same first dimension, but have shapes (100,) and (101, 1)"
          ]
        },
        {
          "output_type": "display_data",
          "data": {
            "text/plain": [
              "<Figure size 640x480 with 1 Axes>"
            ],
            "image/png": "[encoded data removed]"
          },
          "metadata": {}
        }
      ]
    },
    {
      "cell_type": "code",
      "source": [
        "df3=df1.tolist()\n",
        "df3.extend(lst_output)\n",
        "plt.plot(df3[1000:])"
      ],
      "metadata": {
        "colab": {
          "base_uri": "https://localhost:8080/",
          "height": 447
        },
        "id": "Po54YRuSR9kl",
        "outputId": "f7d77df4-d11d-4df7-c26c-f69940f59977"
      },
      "execution_count": null,
      "outputs": [
        {
          "output_type": "execute_result",
          "data": {
            "text/plain": [
              "[<matplotlib.lines.Line2D at 0x7be1b593d0c0>]"
            ]
          },
          "metadata": {},
          "execution_count": 45
        },
        {
          "output_type": "display_data",
          "data": {
            "text/plain": [
              "<Figure size 640x480 with 1 Axes>"
            ],
            "image/png": "[encoded data removed]"
          },
          "metadata": {}
        }
      ]
    },
    {
      "cell_type": "code",
      "source": [],
      "metadata": {
        "id": "ptVsXG4eSW0y"
      },
      "execution_count": null,
      "outputs": []
    }
  ]
}